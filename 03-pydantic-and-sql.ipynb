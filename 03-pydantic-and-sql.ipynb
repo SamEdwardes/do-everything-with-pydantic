{
 "cells": [
  {
   "attachments": {},
   "cell_type": "markdown",
   "metadata": {},
   "source": [
    "# (3) Using Pydantic with SQL\n",
    "\n",
    "Pydantic can integrate with a lot of existing tools:\n",
    "\n",
    "- SQL (<https://sqlmodel.tiangolo.com>)\n",
    "- FastAPI (<https://fastapi.tiangolo.com>)\n",
    "- Pandera (<https://pandera.readthedocs.io/en/stable/pydantic_integration.html>)\n",
    "\n",
    "In this notebook we will explore SQLModel."
   ]
  },
  {
   "attachments": {},
   "cell_type": "markdown",
   "metadata": {},
   "source": [
    "First we need to define our models. They are similar to models we defined in notebook 2, but have some additional syntax."
   ]
  },
  {
   "cell_type": "code",
   "execution_count": 1,
   "metadata": {},
   "outputs": [],
   "source": [
    "from typing import List, Optional\n",
    "\n",
    "from rich.pretty import pprint\n",
    "from sqlmodel import Field, Relationship, Session, SQLModel, create_engine, select\n",
    "\n",
    "# %% Define the models\n",
    "class Book(SQLModel, table=True):\n",
    "    id: Optional[int] = Field(default=None, primary_key=True)\n",
    "    title: str\n",
    "    publisher: str\n",
    "    year: int\n",
    "    author_id: Optional[int] = Field(default=None, foreign_key=\"author.id\")\n",
    "    author: Optional[\"Author\"] = Relationship(back_populates=\"books\")\n",
    "\n",
    "\n",
    "class Author(SQLModel, table=True):\n",
    "    id: Optional[int] = Field(default=None, primary_key=True)\n",
    "    name: str\n",
    "    year_of_birth: int\n",
    "    books: Optional[List[Book]] = Relationship(back_populates=\"author\")\n",
    "\n",
    "\n",
    "engine = create_engine(\"sqlite:///database.db\")\n",
    "SQLModel.metadata.create_all(engine)"
   ]
  },
  {
   "attachments": {},
   "cell_type": "markdown",
   "metadata": {},
   "source": [
    "Now, lets create some data. SQLModel + Pydantic give us a really nice and readable way to create and interact with data."
   ]
  },
  {
   "cell_type": "code",
   "execution_count": 2,
   "metadata": {},
   "outputs": [],
   "source": [
    "authors = [\n",
    "    sam_edwardes := Author(name=\"Sam Edwardes\", year_of_birth=1993),\n",
    "    olivia_edwardes := Author(name=\"Olivia Edwardes\", year_of_birth=1998)\n",
    "]\n",
    "\n",
    "books = [\n",
    "    book_1 := Book(title=\"book 1\", publisher=\"O Willy\", year=2023, author=sam_edwardes),\n",
    "    book_2 := Book(title=\"book 2\", publisher=\"O Willy\", year=2023, author=sam_edwardes),\n",
    "]"
   ]
  },
  {
   "cell_type": "code",
   "execution_count": 3,
   "metadata": {},
   "outputs": [
    {
     "data": {
      "text/plain": [
       "Author(id=None, name='Sam Edwardes', year_of_birth=1993, books=[Book(id=None, title='book 1', publisher='O Willy', year=2023, author_id=None, author=Author(id=None, name='Sam Edwardes', year_of_birth=1993, books=[...])), Book(id=None, title='book 2', publisher='O Willy', year=2023, author_id=None, author=Author(id=None, name='Sam Edwardes', year_of_birth=1993, books=[...]))])"
      ]
     },
     "execution_count": 3,
     "metadata": {},
     "output_type": "execute_result"
    }
   ],
   "source": [
    "sam_edwardes"
   ]
  },
  {
   "cell_type": "code",
   "execution_count": 4,
   "metadata": {},
   "outputs": [
    {
     "data": {
      "text/plain": [
       "Book(id=None, title='book 2', publisher='O Willy', year=2023, author_id=None, author=Author(id=None, name='Sam Edwardes', year_of_birth=1993, books=[Book(id=None, title='book 1', publisher='O Willy', year=2023, author_id=None, author=Author(id=None, name='Sam Edwardes', year_of_birth=1993, books=[...])), Book(id=None, title='book 2', publisher='O Willy', year=2023, author_id=None, author=Author(id=None, name='Sam Edwardes', year_of_birth=1993, books=[...]))]))"
      ]
     },
     "execution_count": 4,
     "metadata": {},
     "output_type": "execute_result"
    }
   ],
   "source": [
    "book_2"
   ]
  },
  {
   "attachments": {},
   "cell_type": "markdown",
   "metadata": {},
   "source": [
    "Next insert the data into the database."
   ]
  },
  {
   "cell_type": "code",
   "execution_count": 5,
   "metadata": {},
   "outputs": [],
   "source": [
    "with Session(engine) as session:\n",
    "    for book in books:\n",
    "        # Note that we only need to add the book. Since the book is related to\n",
    "        # an author the author will also be inserted!\n",
    "        session.add(book)\n",
    "    session.commit()"
   ]
  },
  {
   "attachments": {},
   "cell_type": "markdown",
   "metadata": {},
   "source": [
    "Now lets get the data back from the database."
   ]
  },
  {
   "cell_type": "code",
   "execution_count": 6,
   "metadata": {},
   "outputs": [
    {
     "data": {
      "text/html": [
       "<pre style=\"white-space:pre;overflow-x:auto;line-height:normal;font-family:Menlo,'DejaVu Sans Mono',consolas,'Courier New',monospace\"><span style=\"font-weight: bold\">[</span>\n",
       "<span style=\"color: #7fbf7f; text-decoration-color: #7fbf7f\">│   </span><span style=\"color: #800080; text-decoration-color: #800080; font-weight: bold\">Book</span><span style=\"font-weight: bold\">(</span><span style=\"color: #808000; text-decoration-color: #808000\">year</span>=<span style=\"color: #008080; text-decoration-color: #008080; font-weight: bold\">2023</span>, <span style=\"color: #808000; text-decoration-color: #808000\">publisher</span>=<span style=\"color: #008000; text-decoration-color: #008000\">'O Willy'</span>, <span style=\"color: #808000; text-decoration-color: #808000\">id</span>=<span style=\"color: #008080; text-decoration-color: #008080; font-weight: bold\">1</span>, <span style=\"color: #808000; text-decoration-color: #808000\">title</span>=<span style=\"color: #008000; text-decoration-color: #008000\">'book 1'</span>, <span style=\"color: #808000; text-decoration-color: #808000\">author_id</span>=<span style=\"color: #008080; text-decoration-color: #008080; font-weight: bold\">1</span><span style=\"font-weight: bold\">)</span>,\n",
       "<span style=\"color: #7fbf7f; text-decoration-color: #7fbf7f\">│   </span><span style=\"color: #800080; text-decoration-color: #800080; font-weight: bold\">Book</span><span style=\"font-weight: bold\">(</span><span style=\"color: #808000; text-decoration-color: #808000\">year</span>=<span style=\"color: #008080; text-decoration-color: #008080; font-weight: bold\">2023</span>, <span style=\"color: #808000; text-decoration-color: #808000\">publisher</span>=<span style=\"color: #008000; text-decoration-color: #008000\">'O Willy'</span>, <span style=\"color: #808000; text-decoration-color: #808000\">id</span>=<span style=\"color: #008080; text-decoration-color: #008080; font-weight: bold\">2</span>, <span style=\"color: #808000; text-decoration-color: #808000\">title</span>=<span style=\"color: #008000; text-decoration-color: #008000\">'book 2'</span>, <span style=\"color: #808000; text-decoration-color: #808000\">author_id</span>=<span style=\"color: #008080; text-decoration-color: #008080; font-weight: bold\">1</span><span style=\"font-weight: bold\">)</span>\n",
       "<span style=\"font-weight: bold\">]</span>\n",
       "</pre>\n"
      ],
      "text/plain": [
       "\u001b[1m[\u001b[0m\n",
       "\u001b[2;32m│   \u001b[0m\u001b[1;35mBook\u001b[0m\u001b[1m(\u001b[0m\u001b[33myear\u001b[0m=\u001b[1;36m2023\u001b[0m, \u001b[33mpublisher\u001b[0m=\u001b[32m'O Willy'\u001b[0m, \u001b[33mid\u001b[0m=\u001b[1;36m1\u001b[0m, \u001b[33mtitle\u001b[0m=\u001b[32m'book 1'\u001b[0m, \u001b[33mauthor_id\u001b[0m=\u001b[1;36m1\u001b[0m\u001b[1m)\u001b[0m,\n",
       "\u001b[2;32m│   \u001b[0m\u001b[1;35mBook\u001b[0m\u001b[1m(\u001b[0m\u001b[33myear\u001b[0m=\u001b[1;36m2023\u001b[0m, \u001b[33mpublisher\u001b[0m=\u001b[32m'O Willy'\u001b[0m, \u001b[33mid\u001b[0m=\u001b[1;36m2\u001b[0m, \u001b[33mtitle\u001b[0m=\u001b[32m'book 2'\u001b[0m, \u001b[33mauthor_id\u001b[0m=\u001b[1;36m1\u001b[0m\u001b[1m)\u001b[0m\n",
       "\u001b[1m]\u001b[0m\n"
      ]
     },
     "metadata": {},
     "output_type": "display_data"
    }
   ],
   "source": [
    "with Session(engine) as session:\n",
    "    statement = select(Book)\n",
    "    sql_data = session.exec(statement).all()\n",
    "    pprint(sql_data)"
   ]
  },
  {
   "attachments": {},
   "cell_type": "markdown",
   "metadata": {},
   "source": [
    "That was nice, I got back a list of books. All of the data has been validated by Pydantic, and I can access the data via attributes."
   ]
  },
  {
   "cell_type": "code",
   "execution_count": 7,
   "metadata": {},
   "outputs": [
    {
     "name": "stdout",
     "output_type": "stream",
     "text": [
      "book 1 - 2023\n",
      "book 2 - 2023\n"
     ]
    }
   ],
   "source": [
    "for book in sql_data:\n",
    "    print(f\"{book.title} - {book.year}\")"
   ]
  },
  {
   "attachments": {},
   "cell_type": "markdown",
   "metadata": {},
   "source": [
    "One downside is I only have the author id. I do not have any details about them."
   ]
  },
  {
   "cell_type": "code",
   "execution_count": 8,
   "metadata": {},
   "outputs": [
    {
     "data": {
      "text/plain": [
       "1"
      ]
     },
     "execution_count": 8,
     "metadata": {},
     "output_type": "execute_result"
    }
   ],
   "source": [
    "sql_data[0].author_id"
   ]
  },
  {
   "cell_type": "code",
   "execution_count": 9,
   "metadata": {},
   "outputs": [
    {
     "name": "stdout",
     "output_type": "stream",
     "text": [
      "Parent instance <Book at 0x121e46350> is not bound to a Session; lazy load operation of attribute 'author' cannot proceed (Background on this error at: https://sqlalche.me/e/14/bhk3)\n"
     ]
    }
   ],
   "source": [
    "try:\n",
    "    sql_data[0].author\n",
    "except Exception as e:\n",
    "    print(e)"
   ]
  },
  {
   "attachments": {},
   "cell_type": "markdown",
   "metadata": {},
   "source": [
    "But... if I keep my connection to the database open I can access this data!"
   ]
  },
  {
   "cell_type": "code",
   "execution_count": 10,
   "metadata": {},
   "outputs": [
    {
     "name": "stdout",
     "output_type": "stream",
     "text": [
      "================================\n",
      "book 1\n",
      "year_of_birth=1993 id=1 name='Sam Edwardes'\n",
      "================================\n",
      "book 2\n",
      "year_of_birth=1993 id=1 name='Sam Edwardes'\n"
     ]
    }
   ],
   "source": [
    "with Session(engine) as session:\n",
    "    statement = select(Book)\n",
    "    books = session.exec(statement).all()\n",
    "    \n",
    "    for book in books:\n",
    "        print(\"=\" * 32)\n",
    "        print(book.title)\n",
    "        print(book.author)"
   ]
  },
  {
   "attachments": {},
   "cell_type": "markdown",
   "metadata": {},
   "source": [
    "I can also use the relationship in reverse. I can query authors to get all of the books they have written."
   ]
  },
  {
   "cell_type": "code",
   "execution_count": 11,
   "metadata": {},
   "outputs": [
    {
     "data": {
      "text/html": [
       "<pre style=\"white-space:pre;overflow-x:auto;line-height:normal;font-family:Menlo,'DejaVu Sans Mono',consolas,'Courier New',monospace\"><span style=\"color: #800080; text-decoration-color: #800080; font-weight: bold\">Author</span><span style=\"font-weight: bold\">(</span><span style=\"color: #808000; text-decoration-color: #808000\">year_of_birth</span>=<span style=\"color: #008080; text-decoration-color: #008080; font-weight: bold\">1993</span>, <span style=\"color: #808000; text-decoration-color: #808000\">id</span>=<span style=\"color: #008080; text-decoration-color: #008080; font-weight: bold\">1</span>, <span style=\"color: #808000; text-decoration-color: #808000\">name</span>=<span style=\"color: #008000; text-decoration-color: #008000\">'Sam Edwardes'</span><span style=\"font-weight: bold\">)</span>\n",
       "</pre>\n"
      ],
      "text/plain": [
       "\u001b[1;35mAuthor\u001b[0m\u001b[1m(\u001b[0m\u001b[33myear_of_birth\u001b[0m=\u001b[1;36m1993\u001b[0m, \u001b[33mid\u001b[0m=\u001b[1;36m1\u001b[0m, \u001b[33mname\u001b[0m=\u001b[32m'Sam Edwardes'\u001b[0m\u001b[1m)\u001b[0m\n"
      ]
     },
     "metadata": {},
     "output_type": "display_data"
    },
    {
     "data": {
      "text/html": [
       "<pre style=\"white-space:pre;overflow-x:auto;line-height:normal;font-family:Menlo,'DejaVu Sans Mono',consolas,'Courier New',monospace\"><span style=\"font-weight: bold\">[</span>\n",
       "<span style=\"color: #7fbf7f; text-decoration-color: #7fbf7f\">│   </span><span style=\"color: #800080; text-decoration-color: #800080; font-weight: bold\">Book</span><span style=\"font-weight: bold\">(</span><span style=\"color: #808000; text-decoration-color: #808000\">year</span>=<span style=\"color: #008080; text-decoration-color: #008080; font-weight: bold\">2023</span>, <span style=\"color: #808000; text-decoration-color: #808000\">publisher</span>=<span style=\"color: #008000; text-decoration-color: #008000\">'O Willy'</span>, <span style=\"color: #808000; text-decoration-color: #808000\">id</span>=<span style=\"color: #008080; text-decoration-color: #008080; font-weight: bold\">1</span>, <span style=\"color: #808000; text-decoration-color: #808000\">title</span>=<span style=\"color: #008000; text-decoration-color: #008000\">'book 1'</span>, <span style=\"color: #808000; text-decoration-color: #808000\">author_id</span>=<span style=\"color: #008080; text-decoration-color: #008080; font-weight: bold\">1</span><span style=\"font-weight: bold\">)</span>,\n",
       "<span style=\"color: #7fbf7f; text-decoration-color: #7fbf7f\">│   </span><span style=\"color: #800080; text-decoration-color: #800080; font-weight: bold\">Book</span><span style=\"font-weight: bold\">(</span><span style=\"color: #808000; text-decoration-color: #808000\">year</span>=<span style=\"color: #008080; text-decoration-color: #008080; font-weight: bold\">2023</span>, <span style=\"color: #808000; text-decoration-color: #808000\">publisher</span>=<span style=\"color: #008000; text-decoration-color: #008000\">'O Willy'</span>, <span style=\"color: #808000; text-decoration-color: #808000\">id</span>=<span style=\"color: #008080; text-decoration-color: #008080; font-weight: bold\">2</span>, <span style=\"color: #808000; text-decoration-color: #808000\">title</span>=<span style=\"color: #008000; text-decoration-color: #008000\">'book 2'</span>, <span style=\"color: #808000; text-decoration-color: #808000\">author_id</span>=<span style=\"color: #008080; text-decoration-color: #008080; font-weight: bold\">1</span><span style=\"font-weight: bold\">)</span>\n",
       "<span style=\"font-weight: bold\">]</span>\n",
       "</pre>\n"
      ],
      "text/plain": [
       "\u001b[1m[\u001b[0m\n",
       "\u001b[2;32m│   \u001b[0m\u001b[1;35mBook\u001b[0m\u001b[1m(\u001b[0m\u001b[33myear\u001b[0m=\u001b[1;36m2023\u001b[0m, \u001b[33mpublisher\u001b[0m=\u001b[32m'O Willy'\u001b[0m, \u001b[33mid\u001b[0m=\u001b[1;36m1\u001b[0m, \u001b[33mtitle\u001b[0m=\u001b[32m'book 1'\u001b[0m, \u001b[33mauthor_id\u001b[0m=\u001b[1;36m1\u001b[0m\u001b[1m)\u001b[0m,\n",
       "\u001b[2;32m│   \u001b[0m\u001b[1;35mBook\u001b[0m\u001b[1m(\u001b[0m\u001b[33myear\u001b[0m=\u001b[1;36m2023\u001b[0m, \u001b[33mpublisher\u001b[0m=\u001b[32m'O Willy'\u001b[0m, \u001b[33mid\u001b[0m=\u001b[1;36m2\u001b[0m, \u001b[33mtitle\u001b[0m=\u001b[32m'book 2'\u001b[0m, \u001b[33mauthor_id\u001b[0m=\u001b[1;36m1\u001b[0m\u001b[1m)\u001b[0m\n",
       "\u001b[1m]\u001b[0m\n"
      ]
     },
     "metadata": {},
     "output_type": "display_data"
    }
   ],
   "source": [
    "with Session(engine) as session:\n",
    "    statement = select(Author).where(Author.name == \"Sam Edwardes\")\n",
    "    author = session.exec(statement).one_or_none()\n",
    "    pprint(author)\n",
    "    pprint(author.books)"
   ]
  }
 ],
 "metadata": {
  "kernelspec": {
   "display_name": "Python 3",
   "language": "python",
   "name": "python3"
  },
  "language_info": {
   "codemirror_mode": {
    "name": "ipython",
    "version": 3
   },
   "file_extension": ".py",
   "mimetype": "text/x-python",
   "name": "python",
   "nbconvert_exporter": "python",
   "pygments_lexer": "ipython3",
   "version": "3.11.1"
  },
  "orig_nbformat": 4,
  "vscode": {
   "interpreter": {
    "hash": "67a74a73f8c41c1714211b37e2f37d104b783cf62d001e5ca69edea08e3e014c"
   }
  }
 },
 "nbformat": 4,
 "nbformat_minor": 2
}
